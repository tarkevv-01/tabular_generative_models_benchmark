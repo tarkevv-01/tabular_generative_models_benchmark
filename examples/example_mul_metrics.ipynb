{
  "cells": [
    {
      "cell_type": "code",
      "execution_count": 8,
      "metadata": {
        "colab": {
          "base_uri": "https://localhost:8080/"
        },
        "id": "s84lba2vRN6h",
        "outputId": "2d179a2b-fbc3-4ffb-d602-cbaea8836026"
      },
      "outputs": [
        {
          "name": "stdout",
          "output_type": "stream",
          "text": [
            "fatal: destination path 'tabular_generative_models_benchmark' already exists and is not an empty directory.\n"
          ]
        }
      ],
      "source": [
        "!git clone https://github.com/tarkevv-01/tabular_generative_models_benchmark.git"
      ]
    },
    {
      "cell_type": "code",
      "execution_count": 9,
      "metadata": {
        "colab": {
          "base_uri": "https://localhost:8080/"
        },
        "id": "VFyq5W9zWwFb",
        "outputId": "3152c23d-65e8-4b45-9c52-0c84d39e38da"
      },
      "outputs": [
        {
          "name": "stdout",
          "output_type": "stream",
          "text": [
            "Requirement already satisfied: absl-py==2.3.0 in /usr/local/lib/python3.11/dist-packages (from -r tabular_generative_models_benchmark/requirements.txt (line 1)) (2.3.0)\n",
            "Requirement already satisfied: accelerate==1.7.0 in /usr/local/lib/python3.11/dist-packages (from -r tabular_generative_models_benchmark/requirements.txt (line 2)) (1.7.0)\n",
            "Requirement already satisfied: aiohappyeyeballs==2.6.1 in /usr/local/lib/python3.11/dist-packages (from -r tabular_generative_models_benchmark/requirements.txt (line 3)) (2.6.1)\n",
            "Requirement already satisfied: aiohttp==3.12.13 in /usr/local/lib/python3.11/dist-packages (from -r tabular_generative_models_benchmark/requirements.txt (line 4)) (3.12.13)\n",
            "Requirement already satisfied: aiosignal==1.3.2 in /usr/local/lib/python3.11/dist-packages (from -r tabular_generative_models_benchmark/requirements.txt (line 5)) (1.3.2)\n",
            "Requirement already satisfied: alembic==1.16.2 in /usr/local/lib/python3.11/dist-packages (from -r tabular_generative_models_benchmark/requirements.txt (line 6)) (1.16.2)\n",
            "Requirement already satisfied: annotated-types==0.7.0 in /usr/local/lib/python3.11/dist-packages (from -r tabular_generative_models_benchmark/requirements.txt (line 7)) (0.7.0)\n",
            "Requirement already satisfied: arfpy==0.1.1 in /usr/local/lib/python3.11/dist-packages (from -r tabular_generative_models_benchmark/requirements.txt (line 8)) (0.1.1)\n",
            "Requirement already satisfied: attrs==25.3.0 in /usr/local/lib/python3.11/dist-packages (from -r tabular_generative_models_benchmark/requirements.txt (line 9)) (25.3.0)\n",
            "Requirement already satisfied: autograd==1.8.0 in /usr/local/lib/python3.11/dist-packages (from -r tabular_generative_models_benchmark/requirements.txt (line 10)) (1.8.0)\n",
            "Requirement already satisfied: autograd-gamma==0.5.0 in /usr/local/lib/python3.11/dist-packages (from -r tabular_generative_models_benchmark/requirements.txt (line 11)) (0.5.0)\n",
            "Requirement already satisfied: be_great==0.0.9 in /usr/local/lib/python3.11/dist-packages (from -r tabular_generative_models_benchmark/requirements.txt (line 12)) (0.0.9)\n",
            "Requirement already satisfied: blis==1.2.1 in /usr/local/lib/python3.11/dist-packages (from -r tabular_generative_models_benchmark/requirements.txt (line 13)) (1.2.1)\n",
            "Requirement already satisfied: boto3==1.38.38 in /usr/local/lib/python3.11/dist-packages (from -r tabular_generative_models_benchmark/requirements.txt (line 14)) (1.38.38)\n",
            "Requirement already satisfied: botocore==1.38.38 in /usr/local/lib/python3.11/dist-packages (from -r tabular_generative_models_benchmark/requirements.txt (line 15)) (1.38.38)\n",
            "Requirement already satisfied: Brotli==1.1.0 in /usr/local/lib/python3.11/dist-packages (from -r tabular_generative_models_benchmark/requirements.txt (line 16)) (1.1.0)\n",
            "Requirement already satisfied: cachetools==5.5.2 in /usr/local/lib/python3.11/dist-packages (from -r tabular_generative_models_benchmark/requirements.txt (line 17)) (5.5.2)\n",
            "Requirement already satisfied: catalogue==2.0.10 in /usr/local/lib/python3.11/dist-packages (from -r tabular_generative_models_benchmark/requirements.txt (line 18)) (2.0.10)\n",
            "Requirement already satisfied: certifi==2025.6.15 in /usr/local/lib/python3.11/dist-packages (from -r tabular_generative_models_benchmark/requirements.txt (line 19)) (2025.6.15)\n",
            "Requirement already satisfied: charset-normalizer==3.4.2 in /usr/local/lib/python3.11/dist-packages (from -r tabular_generative_models_benchmark/requirements.txt (line 20)) (3.4.2)\n",
            "Requirement already satisfied: click==8.2.1 in /usr/local/lib/python3.11/dist-packages (from -r tabular_generative_models_benchmark/requirements.txt (line 21)) (8.2.1)\n",
            "Requirement already satisfied: cloudpathlib==0.21.1 in /usr/local/lib/python3.11/dist-packages (from -r tabular_generative_models_benchmark/requirements.txt (line 22)) (0.21.1)\n",
            "Requirement already satisfied: cloudpickle==3.1.1 in /usr/local/lib/python3.11/dist-packages (from -r tabular_generative_models_benchmark/requirements.txt (line 23)) (3.1.1)\n",
            "Requirement already satisfied: colorama==0.4.6 in /usr/local/lib/python3.11/dist-packages (from -r tabular_generative_models_benchmark/requirements.txt (line 24)) (0.4.6)\n",
            "Requirement already satisfied: colorlog==6.9.0 in /usr/local/lib/python3.11/dist-packages (from -r tabular_generative_models_benchmark/requirements.txt (line 25)) (6.9.0)\n",
            "Requirement already satisfied: confection==0.1.5 in /usr/local/lib/python3.11/dist-packages (from -r tabular_generative_models_benchmark/requirements.txt (line 26)) (0.1.5)\n",
            "Requirement already satisfied: contourpy==1.3.2 in /usr/local/lib/python3.11/dist-packages (from -r tabular_generative_models_benchmark/requirements.txt (line 27)) (1.3.2)\n",
            "Requirement already satisfied: copulas==0.12.3 in /usr/local/lib/python3.11/dist-packages (from -r tabular_generative_models_benchmark/requirements.txt (line 28)) (0.12.3)\n",
            "Requirement already satisfied: ctgan==0.11.0 in /usr/local/lib/python3.11/dist-packages (from -r tabular_generative_models_benchmark/requirements.txt (line 29)) (0.11.0)\n",
            "Requirement already satisfied: cycler==0.12.1 in /usr/local/lib/python3.11/dist-packages (from -r tabular_generative_models_benchmark/requirements.txt (line 30)) (0.12.1)\n",
            "Requirement already satisfied: cymem==2.0.11 in /usr/local/lib/python3.11/dist-packages (from -r tabular_generative_models_benchmark/requirements.txt (line 31)) (2.0.11)\n",
            "Requirement already satisfied: datasets==3.6.0 in /usr/local/lib/python3.11/dist-packages (from -r tabular_generative_models_benchmark/requirements.txt (line 32)) (3.6.0)\n",
            "Requirement already satisfied: decaf-synthetic-data==0.1.7 in /usr/local/lib/python3.11/dist-packages (from -r tabular_generative_models_benchmark/requirements.txt (line 33)) (0.1.7)\n",
            "Requirement already satisfied: deepecho==0.7.0 in /usr/local/lib/python3.11/dist-packages (from -r tabular_generative_models_benchmark/requirements.txt (line 34)) (0.7.0)\n",
            "Requirement already satisfied: dill==0.3.8 in /usr/local/lib/python3.11/dist-packages (from -r tabular_generative_models_benchmark/requirements.txt (line 35)) (0.3.8)\n",
            "Requirement already satisfied: Faker==37.4.0 in /usr/local/lib/python3.11/dist-packages (from -r tabular_generative_models_benchmark/requirements.txt (line 36)) (37.4.0)\n",
            "Requirement already satisfied: fastai==2.7.19 in /usr/local/lib/python3.11/dist-packages (from -r tabular_generative_models_benchmark/requirements.txt (line 37)) (2.7.19)\n",
            "Requirement already satisfied: fastcore==1.7.29 in /usr/local/lib/python3.11/dist-packages (from -r tabular_generative_models_benchmark/requirements.txt (line 38)) (1.7.29)\n",
            "Requirement already satisfied: fastdownload==0.0.7 in /usr/local/lib/python3.11/dist-packages (from -r tabular_generative_models_benchmark/requirements.txt (line 39)) (0.0.7)\n",
            "Requirement already satisfied: fastprogress==1.0.3 in /usr/local/lib/python3.11/dist-packages (from -r tabular_generative_models_benchmark/requirements.txt (line 40)) (1.0.3)\n",
            "Requirement already satisfied: feather-format==0.4.1 in /usr/local/lib/python3.11/dist-packages (from -r tabular_generative_models_benchmark/requirements.txt (line 41)) (0.4.1)\n",
            "Requirement already satisfied: fflows==0.0.3 in /usr/local/lib/python3.11/dist-packages (from -r tabular_generative_models_benchmark/requirements.txt (line 42)) (0.0.3)\n",
            "Requirement already satisfied: filelock==3.18.0 in /usr/local/lib/python3.11/dist-packages (from -r tabular_generative_models_benchmark/requirements.txt (line 43)) (3.18.0)\n",
            "Requirement already satisfied: fonttools==4.58.4 in /usr/local/lib/python3.11/dist-packages (from -r tabular_generative_models_benchmark/requirements.txt (line 44)) (4.58.4)\n",
            "Requirement already satisfied: formulaic==1.1.1 in /usr/local/lib/python3.11/dist-packages (from -r tabular_generative_models_benchmark/requirements.txt (line 45)) (1.1.1)\n",
            "Requirement already satisfied: frozenlist==1.7.0 in /usr/local/lib/python3.11/dist-packages (from -r tabular_generative_models_benchmark/requirements.txt (line 46)) (1.7.0)\n",
            "Requirement already satisfied: fsspec==2025.3.0 in /usr/local/lib/python3.11/dist-packages (from -r tabular_generative_models_benchmark/requirements.txt (line 47)) (2025.3.0)\n",
            "Requirement already satisfied: geomloss==0.2.6 in /usr/local/lib/python3.11/dist-packages (from -r tabular_generative_models_benchmark/requirements.txt (line 48)) (0.2.6)\n",
            "Requirement already satisfied: google-ai-generativelanguage==0.6.15 in /usr/local/lib/python3.11/dist-packages (from -r tabular_generative_models_benchmark/requirements.txt (line 49)) (0.6.15)\n",
            "Requirement already satisfied: google-api-core==2.25.1 in /usr/local/lib/python3.11/dist-packages (from -r tabular_generative_models_benchmark/requirements.txt (line 50)) (2.25.1)\n",
            "Requirement already satisfied: google-api-python-client==2.172.0 in /usr/local/lib/python3.11/dist-packages (from -r tabular_generative_models_benchmark/requirements.txt (line 51)) (2.172.0)\n",
            "Requirement already satisfied: google-auth==2.40.3 in /usr/local/lib/python3.11/dist-packages (from -r tabular_generative_models_benchmark/requirements.txt (line 52)) (2.40.3)\n",
            "Requirement already satisfied: google-auth-httplib2==0.2.0 in /usr/local/lib/python3.11/dist-packages (from -r tabular_generative_models_benchmark/requirements.txt (line 53)) (0.2.0)\n",
            "Requirement already satisfied: google-generativeai==0.8.5 in /usr/local/lib/python3.11/dist-packages (from -r tabular_generative_models_benchmark/requirements.txt (line 54)) (0.8.5)\n",
            "Requirement already satisfied: googleapis-common-protos==1.70.0 in /usr/local/lib/python3.11/dist-packages (from -r tabular_generative_models_benchmark/requirements.txt (line 55)) (1.70.0)\n",
            "Requirement already satisfied: graphviz==0.21 in /usr/local/lib/python3.11/dist-packages (from -r tabular_generative_models_benchmark/requirements.txt (line 56)) (0.21)\n",
            "Requirement already satisfied: greenlet==3.2.3 in /usr/local/lib/python3.11/dist-packages (from -r tabular_generative_models_benchmark/requirements.txt (line 57)) (3.2.3)\n",
            "Requirement already satisfied: grpcio==1.73.0 in /usr/local/lib/python3.11/dist-packages (from -r tabular_generative_models_benchmark/requirements.txt (line 58)) (1.73.0)\n",
            "Requirement already satisfied: grpcio-status==1.71.0 in /usr/local/lib/python3.11/dist-packages (from -r tabular_generative_models_benchmark/requirements.txt (line 59)) (1.71.0)\n",
            "Requirement already satisfied: h5py==3.14.0 in /usr/local/lib/python3.11/dist-packages (from -r tabular_generative_models_benchmark/requirements.txt (line 60)) (3.14.0)\n",
            "Requirement already satisfied: httplib2==0.22.0 in /usr/local/lib/python3.11/dist-packages (from -r tabular_generative_models_benchmark/requirements.txt (line 61)) (0.22.0)\n",
            "Requirement already satisfied: huggingface-hub==0.33.0 in /usr/local/lib/python3.11/dist-packages (from -r tabular_generative_models_benchmark/requirements.txt (line 62)) (0.33.0)\n",
            "Requirement already satisfied: idna==3.10 in /usr/local/lib/python3.11/dist-packages (from -r tabular_generative_models_benchmark/requirements.txt (line 63)) (3.10)\n",
            "Requirement already satisfied: imbalanced-learn==0.13.0 in /usr/local/lib/python3.11/dist-packages (from -r tabular_generative_models_benchmark/requirements.txt (line 64)) (0.13.0)\n",
            "Requirement already satisfied: importlib_metadata==8.7.0 in /usr/local/lib/python3.11/dist-packages (from -r tabular_generative_models_benchmark/requirements.txt (line 65)) (8.7.0)\n",
            "Requirement already satisfied: inflate64==1.0.3 in /usr/local/lib/python3.11/dist-packages (from -r tabular_generative_models_benchmark/requirements.txt (line 66)) (1.0.3)\n",
            "Requirement already satisfied: interface-meta==1.3.0 in /usr/local/lib/python3.11/dist-packages (from -r tabular_generative_models_benchmark/requirements.txt (line 67)) (1.3.0)\n",
            "Requirement already satisfied: Jinja2==3.1.6 in /usr/local/lib/python3.11/dist-packages (from -r tabular_generative_models_benchmark/requirements.txt (line 68)) (3.1.6)\n",
            "Requirement already satisfied: jmespath==1.0.1 in /usr/local/lib/python3.11/dist-packages (from -r tabular_generative_models_benchmark/requirements.txt (line 69)) (1.0.1)\n",
            "Requirement already satisfied: joblib==1.5.1 in /usr/local/lib/python3.11/dist-packages (from -r tabular_generative_models_benchmark/requirements.txt (line 70)) (1.5.1)\n",
            "Requirement already satisfied: keopscore==2.3 in /usr/local/lib/python3.11/dist-packages (from -r tabular_generative_models_benchmark/requirements.txt (line 71)) (2.3)\n",
            "Requirement already satisfied: kiwisolver==1.4.8 in /usr/local/lib/python3.11/dist-packages (from -r tabular_generative_models_benchmark/requirements.txt (line 72)) (1.4.8)\n",
            "Requirement already satisfied: langcodes==3.5.0 in /usr/local/lib/python3.11/dist-packages (from -r tabular_generative_models_benchmark/requirements.txt (line 73)) (3.5.0)\n",
            "Requirement already satisfied: language_data==1.3.0 in /usr/local/lib/python3.11/dist-packages (from -r tabular_generative_models_benchmark/requirements.txt (line 74)) (1.3.0)\n",
            "Requirement already satisfied: lifelines==0.29.0 in /usr/local/lib/python3.11/dist-packages (from -r tabular_generative_models_benchmark/requirements.txt (line 75)) (0.29.0)\n",
            "Requirement already satisfied: lightning-utilities==0.14.3 in /usr/local/lib/python3.11/dist-packages (from -r tabular_generative_models_benchmark/requirements.txt (line 76)) (0.14.3)\n",
            "Requirement already satisfied: llvmlite==0.44.0 in /usr/local/lib/python3.11/dist-packages (from -r tabular_generative_models_benchmark/requirements.txt (line 77)) (0.44.0)\n",
            "Requirement already satisfied: loguru==0.7.3 in /usr/local/lib/python3.11/dist-packages (from -r tabular_generative_models_benchmark/requirements.txt (line 78)) (0.7.3)\n",
            "Requirement already satisfied: Mako==1.3.10 in /usr/local/lib/python3.11/dist-packages (from -r tabular_generative_models_benchmark/requirements.txt (line 79)) (1.3.10)\n",
            "Requirement already satisfied: marisa-trie==1.2.1 in /usr/local/lib/python3.11/dist-packages (from -r tabular_generative_models_benchmark/requirements.txt (line 80)) (1.2.1)\n",
            "Requirement already satisfied: Markdown==3.8.1 in /usr/local/lib/python3.11/dist-packages (from -r tabular_generative_models_benchmark/requirements.txt (line 81)) (3.8.1)\n",
            "Requirement already satisfied: markdown-it-py==3.0.0 in /usr/local/lib/python3.11/dist-packages (from -r tabular_generative_models_benchmark/requirements.txt (line 82)) (3.0.0)\n",
            "Requirement already satisfied: MarkupSafe==3.0.2 in /usr/local/lib/python3.11/dist-packages (from -r tabular_generative_models_benchmark/requirements.txt (line 83)) (3.0.2)\n",
            "Requirement already satisfied: matplotlib==3.10.3 in /usr/local/lib/python3.11/dist-packages (from -r tabular_generative_models_benchmark/requirements.txt (line 84)) (3.10.3)\n",
            "Requirement already satisfied: mdurl==0.1.2 in /usr/local/lib/python3.11/dist-packages (from -r tabular_generative_models_benchmark/requirements.txt (line 85)) (0.1.2)\n",
            "Requirement already satisfied: monai==1.4.0 in /usr/local/lib/python3.11/dist-packages (from -r tabular_generative_models_benchmark/requirements.txt (line 86)) (1.4.0)\n",
            "Requirement already satisfied: mpmath==1.3.0 in /usr/local/lib/python3.11/dist-packages (from -r tabular_generative_models_benchmark/requirements.txt (line 87)) (1.3.0)\n",
            "Requirement already satisfied: multidict==6.5.0 in /usr/local/lib/python3.11/dist-packages (from -r tabular_generative_models_benchmark/requirements.txt (line 88)) (6.5.0)\n",
            "Requirement already satisfied: multiprocess==0.70.16 in /usr/local/lib/python3.11/dist-packages (from -r tabular_generative_models_benchmark/requirements.txt (line 89)) (0.70.16)\n",
            "Requirement already satisfied: multivolumefile==0.2.3 in /usr/local/lib/python3.11/dist-packages (from -r tabular_generative_models_benchmark/requirements.txt (line 90)) (0.2.3)\n",
            "Requirement already satisfied: murmurhash==1.0.13 in /usr/local/lib/python3.11/dist-packages (from -r tabular_generative_models_benchmark/requirements.txt (line 91)) (1.0.13)\n",
            "Requirement already satisfied: narwhals==1.42.1 in /usr/local/lib/python3.11/dist-packages (from -r tabular_generative_models_benchmark/requirements.txt (line 92)) (1.42.1)\n",
            "Requirement already satisfied: networkx==2.8.8 in /usr/local/lib/python3.11/dist-packages (from -r tabular_generative_models_benchmark/requirements.txt (line 93)) (2.8.8)\n",
            "Requirement already satisfied: nflows==0.14 in /usr/local/lib/python3.11/dist-packages (from -r tabular_generative_models_benchmark/requirements.txt (line 94)) (0.14)\n",
            "Requirement already satisfied: numba==0.61.2 in /usr/local/lib/python3.11/dist-packages (from -r tabular_generative_models_benchmark/requirements.txt (line 95)) (0.61.2)\n",
            "Requirement already satisfied: numpy==1.26.4 in /usr/local/lib/python3.11/dist-packages (from -r tabular_generative_models_benchmark/requirements.txt (line 96)) (1.26.4)\n",
            "Requirement already satisfied: opacus==1.4.0 in /usr/local/lib/python3.11/dist-packages (from -r tabular_generative_models_benchmark/requirements.txt (line 97)) (1.4.0)\n",
            "Requirement already satisfied: opt_einsum==3.4.0 in /usr/local/lib/python3.11/dist-packages (from -r tabular_generative_models_benchmark/requirements.txt (line 98)) (3.4.0)\n",
            "Requirement already satisfied: optuna==4.4.0 in /usr/local/lib/python3.11/dist-packages (from -r tabular_generative_models_benchmark/requirements.txt (line 99)) (4.4.0)\n",
            "Requirement already satisfied: packaging==25.0 in /usr/local/lib/python3.11/dist-packages (from -r tabular_generative_models_benchmark/requirements.txt (line 100)) (25.0)\n",
            "Requirement already satisfied: pandas==2.3.0 in /usr/local/lib/python3.11/dist-packages (from -r tabular_generative_models_benchmark/requirements.txt (line 101)) (2.3.0)\n",
            "Requirement already satisfied: patsy==1.0.1 in /usr/local/lib/python3.11/dist-packages (from -r tabular_generative_models_benchmark/requirements.txt (line 102)) (1.0.1)\n",
            "Requirement already satisfied: pgmpy==0.1.26 in /usr/local/lib/python3.11/dist-packages (from -r tabular_generative_models_benchmark/requirements.txt (line 103)) (0.1.26)\n",
            "Requirement already satisfied: pillow==11.2.1 in /usr/local/lib/python3.11/dist-packages (from -r tabular_generative_models_benchmark/requirements.txt (line 104)) (11.2.1)\n",
            "Requirement already satisfied: platformdirs==4.3.8 in /usr/local/lib/python3.11/dist-packages (from -r tabular_generative_models_benchmark/requirements.txt (line 105)) (4.3.8)\n",
            "Requirement already satisfied: plotly==6.1.2 in /usr/local/lib/python3.11/dist-packages (from -r tabular_generative_models_benchmark/requirements.txt (line 106)) (6.1.2)\n",
            "Requirement already satisfied: preshed==3.0.10 in /usr/local/lib/python3.11/dist-packages (from -r tabular_generative_models_benchmark/requirements.txt (line 107)) (3.0.10)\n",
            "Requirement already satisfied: propcache==0.3.2 in /usr/local/lib/python3.11/dist-packages (from -r tabular_generative_models_benchmark/requirements.txt (line 108)) (0.3.2)\n",
            "Requirement already satisfied: proto-plus==1.26.1 in /usr/local/lib/python3.11/dist-packages (from -r tabular_generative_models_benchmark/requirements.txt (line 109)) (1.26.1)\n",
            "Requirement already satisfied: protobuf==5.29.5 in /usr/local/lib/python3.11/dist-packages (from -r tabular_generative_models_benchmark/requirements.txt (line 110)) (5.29.5)\n",
            "Requirement already satisfied: psutil==7.0.0 in /usr/local/lib/python3.11/dist-packages (from -r tabular_generative_models_benchmark/requirements.txt (line 111)) (7.0.0)\n",
            "Requirement already satisfied: py7zr==1.0.0 in /usr/local/lib/python3.11/dist-packages (from -r tabular_generative_models_benchmark/requirements.txt (line 112)) (1.0.0)\n",
            "Requirement already satisfied: pyarrow==20.0.0 in /usr/local/lib/python3.11/dist-packages (from -r tabular_generative_models_benchmark/requirements.txt (line 113)) (20.0.0)\n",
            "Requirement already satisfied: pyasn1==0.6.1 in /usr/local/lib/python3.11/dist-packages (from -r tabular_generative_models_benchmark/requirements.txt (line 114)) (0.6.1)\n",
            "Requirement already satisfied: pyasn1_modules==0.4.2 in /usr/local/lib/python3.11/dist-packages (from -r tabular_generative_models_benchmark/requirements.txt (line 115)) (0.4.2)\n",
            "Requirement already satisfied: pybcj==1.0.6 in /usr/local/lib/python3.11/dist-packages (from -r tabular_generative_models_benchmark/requirements.txt (line 116)) (1.0.6)\n",
            "Requirement already satisfied: pybind11==2.13.6 in /usr/local/lib/python3.11/dist-packages (from -r tabular_generative_models_benchmark/requirements.txt (line 117)) (2.13.6)\n",
            "Requirement already satisfied: pycox==0.3.0 in /usr/local/lib/python3.11/dist-packages (from -r tabular_generative_models_benchmark/requirements.txt (line 118)) (0.3.0)\n",
            "Requirement already satisfied: pycryptodomex==3.23.0 in /usr/local/lib/python3.11/dist-packages (from -r tabular_generative_models_benchmark/requirements.txt (line 119)) (3.23.0)\n",
            "Requirement already satisfied: pydantic==2.11.7 in /usr/local/lib/python3.11/dist-packages (from -r tabular_generative_models_benchmark/requirements.txt (line 120)) (2.11.7)\n",
            "Requirement already satisfied: pydantic_core==2.33.2 in /usr/local/lib/python3.11/dist-packages (from -r tabular_generative_models_benchmark/requirements.txt (line 121)) (2.33.2)\n",
            "Requirement already satisfied: Pygments==2.19.1 in /usr/local/lib/python3.11/dist-packages (from -r tabular_generative_models_benchmark/requirements.txt (line 122)) (2.19.1)\n",
            "Requirement already satisfied: pykeops==2.3 in /usr/local/lib/python3.11/dist-packages (from -r tabular_generative_models_benchmark/requirements.txt (line 123)) (2.3)\n",
            "Requirement already satisfied: pyparsing==3.2.3 in /usr/local/lib/python3.11/dist-packages (from -r tabular_generative_models_benchmark/requirements.txt (line 124)) (3.2.3)\n",
            "Requirement already satisfied: pyppmd==1.2.0 in /usr/local/lib/python3.11/dist-packages (from -r tabular_generative_models_benchmark/requirements.txt (line 125)) (1.2.0)\n",
            "Requirement already satisfied: python-dateutil==2.9.0.post0 in /usr/local/lib/python3.11/dist-packages (from -r tabular_generative_models_benchmark/requirements.txt (line 126)) (2.9.0.post0)\n",
            "Requirement already satisfied: pytorch-lightning==2.5.1.post0 in /usr/local/lib/python3.11/dist-packages (from -r tabular_generative_models_benchmark/requirements.txt (line 127)) (2.5.1.post0)\n",
            "Requirement already satisfied: pyts==0.13.0 in /usr/local/lib/python3.11/dist-packages (from -r tabular_generative_models_benchmark/requirements.txt (line 128)) (0.13.0)\n",
            "Requirement already satisfied: pytz==2025.2 in /usr/local/lib/python3.11/dist-packages (from -r tabular_generative_models_benchmark/requirements.txt (line 129)) (2025.2)\n",
            "Requirement already satisfied: PyYAML==6.0.2 in /usr/local/lib/python3.11/dist-packages (from -r tabular_generative_models_benchmark/requirements.txt (line 130)) (6.0.2)\n",
            "Requirement already satisfied: pyzstd==0.17.0 in /usr/local/lib/python3.11/dist-packages (from -r tabular_generative_models_benchmark/requirements.txt (line 131)) (0.17.0)\n",
            "Requirement already satisfied: rdt==1.17.0 in /usr/local/lib/python3.11/dist-packages (from -r tabular_generative_models_benchmark/requirements.txt (line 132)) (1.17.0)\n",
            "Requirement already satisfied: redis==6.2.0 in /usr/local/lib/python3.11/dist-packages (from -r tabular_generative_models_benchmark/requirements.txt (line 133)) (6.2.0)\n",
            "Requirement already satisfied: regex==2024.11.6 in /usr/local/lib/python3.11/dist-packages (from -r tabular_generative_models_benchmark/requirements.txt (line 134)) (2024.11.6)\n",
            "Requirement already satisfied: requests==2.32.4 in /usr/local/lib/python3.11/dist-packages (from -r tabular_generative_models_benchmark/requirements.txt (line 135)) (2.32.4)\n",
            "Requirement already satisfied: rich==14.0.0 in /usr/local/lib/python3.11/dist-packages (from -r tabular_generative_models_benchmark/requirements.txt (line 136)) (14.0.0)\n",
            "Requirement already satisfied: rsa==4.9.1 in /usr/local/lib/python3.11/dist-packages (from -r tabular_generative_models_benchmark/requirements.txt (line 137)) (4.9.1)\n",
            "Requirement already satisfied: s3transfer==0.13.0 in /usr/local/lib/python3.11/dist-packages (from -r tabular_generative_models_benchmark/requirements.txt (line 138)) (0.13.0)\n",
            "Requirement already satisfied: safetensors==0.5.3 in /usr/local/lib/python3.11/dist-packages (from -r tabular_generative_models_benchmark/requirements.txt (line 139)) (0.5.3)\n",
            "Requirement already satisfied: scikit-learn==1.6.1 in /usr/local/lib/python3.11/dist-packages (from -r tabular_generative_models_benchmark/requirements.txt (line 140)) (1.6.1)\n",
            "Requirement already satisfied: scipy==1.15.3 in /usr/local/lib/python3.11/dist-packages (from -r tabular_generative_models_benchmark/requirements.txt (line 141)) (1.15.3)\n",
            "Requirement already satisfied: sdmetrics==0.21.0 in /usr/local/lib/python3.11/dist-packages (from -r tabular_generative_models_benchmark/requirements.txt (line 142)) (0.21.0)\n",
            "Requirement already satisfied: sdv==1.23.0 in /usr/local/lib/python3.11/dist-packages (from -r tabular_generative_models_benchmark/requirements.txt (line 143)) (1.23.0)\n",
            "Requirement already satisfied: setuptools==80.9.0 in /usr/local/lib/python3.11/dist-packages (from -r tabular_generative_models_benchmark/requirements.txt (line 144)) (80.9.0)\n",
            "Requirement already satisfied: shap==0.48.0 in /usr/local/lib/python3.11/dist-packages (from -r tabular_generative_models_benchmark/requirements.txt (line 145)) (0.48.0)\n",
            "Requirement already satisfied: shellingham==1.5.4 in /usr/local/lib/python3.11/dist-packages (from -r tabular_generative_models_benchmark/requirements.txt (line 146)) (1.5.4)\n",
            "Requirement already satisfied: six==1.17.0 in /usr/local/lib/python3.11/dist-packages (from -r tabular_generative_models_benchmark/requirements.txt (line 147)) (1.17.0)\n",
            "Requirement already satisfied: sklearn-compat==0.1.3 in /usr/local/lib/python3.11/dist-packages (from -r tabular_generative_models_benchmark/requirements.txt (line 148)) (0.1.3)\n",
            "Requirement already satisfied: slicer==0.0.8 in /usr/local/lib/python3.11/dist-packages (from -r tabular_generative_models_benchmark/requirements.txt (line 149)) (0.0.8)\n",
            "Requirement already satisfied: smart-open==7.1.0 in /usr/local/lib/python3.11/dist-packages (from -r tabular_generative_models_benchmark/requirements.txt (line 150)) (7.1.0)\n",
            "Requirement already satisfied: spacy==3.8.7 in /usr/local/lib/python3.11/dist-packages (from -r tabular_generative_models_benchmark/requirements.txt (line 151)) (3.8.7)\n",
            "Requirement already satisfied: spacy-legacy==3.0.12 in /usr/local/lib/python3.11/dist-packages (from -r tabular_generative_models_benchmark/requirements.txt (line 152)) (3.0.12)\n",
            "Requirement already satisfied: spacy-loggers==1.0.5 in /usr/local/lib/python3.11/dist-packages (from -r tabular_generative_models_benchmark/requirements.txt (line 153)) (1.0.5)\n",
            "Requirement already satisfied: SQLAlchemy==2.0.41 in /usr/local/lib/python3.11/dist-packages (from -r tabular_generative_models_benchmark/requirements.txt (line 154)) (2.0.41)\n",
            "Requirement already satisfied: srsly==2.5.1 in /usr/local/lib/python3.11/dist-packages (from -r tabular_generative_models_benchmark/requirements.txt (line 155)) (2.5.1)\n",
            "Requirement already satisfied: statsmodels==0.14.4 in /usr/local/lib/python3.11/dist-packages (from -r tabular_generative_models_benchmark/requirements.txt (line 156)) (0.14.4)\n",
            "Requirement already satisfied: sympy==1.14.0 in /usr/local/lib/python3.11/dist-packages (from -r tabular_generative_models_benchmark/requirements.txt (line 157)) (1.14.0)\n",
            "Requirement already satisfied: synthcity==0.2.12 in /usr/local/lib/python3.11/dist-packages (from -r tabular_generative_models_benchmark/requirements.txt (line 158)) (0.2.12)\n",
            "Requirement already satisfied: tenacity==9.1.2 in /usr/local/lib/python3.11/dist-packages (from -r tabular_generative_models_benchmark/requirements.txt (line 159)) (9.1.2)\n",
            "Requirement already satisfied: tensorboard==2.19.0 in /usr/local/lib/python3.11/dist-packages (from -r tabular_generative_models_benchmark/requirements.txt (line 160)) (2.19.0)\n",
            "Requirement already satisfied: tensorboard-data-server==0.7.2 in /usr/local/lib/python3.11/dist-packages (from -r tabular_generative_models_benchmark/requirements.txt (line 161)) (0.7.2)\n",
            "Requirement already satisfied: texttable==1.7.0 in /usr/local/lib/python3.11/dist-packages (from -r tabular_generative_models_benchmark/requirements.txt (line 162)) (1.7.0)\n",
            "Requirement already satisfied: thinc==8.3.4 in /usr/local/lib/python3.11/dist-packages (from -r tabular_generative_models_benchmark/requirements.txt (line 163)) (8.3.4)\n",
            "Requirement already satisfied: threadpoolctl==3.6.0 in /usr/local/lib/python3.11/dist-packages (from -r tabular_generative_models_benchmark/requirements.txt (line 164)) (3.6.0)\n",
            "Requirement already satisfied: tokenizers==0.21.1 in /usr/local/lib/python3.11/dist-packages (from -r tabular_generative_models_benchmark/requirements.txt (line 165)) (0.21.1)\n",
            "Requirement already satisfied: torch==2.2.2 in /usr/local/lib/python3.11/dist-packages (from -r tabular_generative_models_benchmark/requirements.txt (line 166)) (2.2.2)\n",
            "Requirement already satisfied: torchaudio==2.2.2 in /usr/local/lib/python3.11/dist-packages (from -r tabular_generative_models_benchmark/requirements.txt (line 167)) (2.2.2)\n",
            "Requirement already satisfied: torchmetrics==1.7.3 in /usr/local/lib/python3.11/dist-packages (from -r tabular_generative_models_benchmark/requirements.txt (line 168)) (1.7.3)\n",
            "Requirement already satisfied: torchtext==0.17.2 in /usr/local/lib/python3.11/dist-packages (from -r tabular_generative_models_benchmark/requirements.txt (line 169)) (0.17.2)\n",
            "Requirement already satisfied: torchtuples==0.2.2 in /usr/local/lib/python3.11/dist-packages (from -r tabular_generative_models_benchmark/requirements.txt (line 170)) (0.2.2)\n",
            "Requirement already satisfied: torchvision==0.17.2 in /usr/local/lib/python3.11/dist-packages (from -r tabular_generative_models_benchmark/requirements.txt (line 171)) (0.17.2)\n",
            "Requirement already satisfied: tqdm==4.67.1 in /usr/local/lib/python3.11/dist-packages (from -r tabular_generative_models_benchmark/requirements.txt (line 172)) (4.67.1)\n",
            "Requirement already satisfied: transformers==4.52.4 in /usr/local/lib/python3.11/dist-packages (from -r tabular_generative_models_benchmark/requirements.txt (line 173)) (4.52.4)\n",
            "Requirement already satisfied: tsai==0.4.0 in /usr/local/lib/python3.11/dist-packages (from -r tabular_generative_models_benchmark/requirements.txt (line 174)) (0.4.0)\n",
            "Requirement already satisfied: typer==0.16.0 in /usr/local/lib/python3.11/dist-packages (from -r tabular_generative_models_benchmark/requirements.txt (line 175)) (0.16.0)\n",
            "Requirement already satisfied: typing-inspection==0.4.1 in /usr/local/lib/python3.11/dist-packages (from -r tabular_generative_models_benchmark/requirements.txt (line 176)) (0.4.1)\n",
            "Requirement already satisfied: typing_extensions==4.14.0 in /usr/local/lib/python3.11/dist-packages (from -r tabular_generative_models_benchmark/requirements.txt (line 177)) (4.14.0)\n",
            "Requirement already satisfied: tzdata==2025.2 in /usr/local/lib/python3.11/dist-packages (from -r tabular_generative_models_benchmark/requirements.txt (line 178)) (2025.2)\n",
            "Requirement already satisfied: uritemplate==4.2.0 in /usr/local/lib/python3.11/dist-packages (from -r tabular_generative_models_benchmark/requirements.txt (line 179)) (4.2.0)\n",
            "Requirement already satisfied: urllib3==2.5.0 in /usr/local/lib/python3.11/dist-packages (from -r tabular_generative_models_benchmark/requirements.txt (line 180)) (2.5.0)\n",
            "Requirement already satisfied: wasabi==1.1.3 in /usr/local/lib/python3.11/dist-packages (from -r tabular_generative_models_benchmark/requirements.txt (line 181)) (1.1.3)\n",
            "Requirement already satisfied: weasel==0.4.1 in /usr/local/lib/python3.11/dist-packages (from -r tabular_generative_models_benchmark/requirements.txt (line 182)) (0.4.1)\n",
            "Requirement already satisfied: Werkzeug==3.1.3 in /usr/local/lib/python3.11/dist-packages (from -r tabular_generative_models_benchmark/requirements.txt (line 183)) (3.1.3)\n",
            "Requirement already satisfied: win32_setctime==1.2.0 in /usr/local/lib/python3.11/dist-packages (from -r tabular_generative_models_benchmark/requirements.txt (line 184)) (1.2.0)\n",
            "Requirement already satisfied: wrapt==1.17.2 in /usr/local/lib/python3.11/dist-packages (from -r tabular_generative_models_benchmark/requirements.txt (line 185)) (1.17.2)\n",
            "Requirement already satisfied: xgboost==2.1.4 in /usr/local/lib/python3.11/dist-packages (from -r tabular_generative_models_benchmark/requirements.txt (line 186)) (2.1.4)\n",
            "Requirement already satisfied: xgbse==0.3.3 in /usr/local/lib/python3.11/dist-packages (from -r tabular_generative_models_benchmark/requirements.txt (line 187)) (0.3.3)\n",
            "Requirement already satisfied: xxhash==3.5.0 in /usr/local/lib/python3.11/dist-packages (from -r tabular_generative_models_benchmark/requirements.txt (line 188)) (3.5.0)\n",
            "Requirement already satisfied: yarl==1.20.1 in /usr/local/lib/python3.11/dist-packages (from -r tabular_generative_models_benchmark/requirements.txt (line 189)) (1.20.1)\n",
            "Requirement already satisfied: zipp==3.23.0 in /usr/local/lib/python3.11/dist-packages (from -r tabular_generative_models_benchmark/requirements.txt (line 190)) (3.23.0)\n",
            "Requirement already satisfied: pip in /usr/local/lib/python3.11/dist-packages (from fastai==2.7.19->-r tabular_generative_models_benchmark/requirements.txt (line 37)) (24.1.2)\n",
            "Requirement already satisfied: hf-xet<2.0.0,>=1.1.2 in /usr/local/lib/python3.11/dist-packages (from huggingface-hub==0.33.0->-r tabular_generative_models_benchmark/requirements.txt (line 62)) (1.1.3)\n",
            "Requirement already satisfied: nvidia-cuda-nvrtc-cu12==12.1.105 in /usr/local/lib/python3.11/dist-packages (from torch==2.2.2->-r tabular_generative_models_benchmark/requirements.txt (line 166)) (12.1.105)\n",
            "Requirement already satisfied: nvidia-cuda-runtime-cu12==12.1.105 in /usr/local/lib/python3.11/dist-packages (from torch==2.2.2->-r tabular_generative_models_benchmark/requirements.txt (line 166)) (12.1.105)\n",
            "Requirement already satisfied: nvidia-cuda-cupti-cu12==12.1.105 in /usr/local/lib/python3.11/dist-packages (from torch==2.2.2->-r tabular_generative_models_benchmark/requirements.txt (line 166)) (12.1.105)\n",
            "Requirement already satisfied: nvidia-cudnn-cu12==8.9.2.26 in /usr/local/lib/python3.11/dist-packages (from torch==2.2.2->-r tabular_generative_models_benchmark/requirements.txt (line 166)) (8.9.2.26)\n",
            "Requirement already satisfied: nvidia-cublas-cu12==12.1.3.1 in /usr/local/lib/python3.11/dist-packages (from torch==2.2.2->-r tabular_generative_models_benchmark/requirements.txt (line 166)) (12.1.3.1)\n",
            "Requirement already satisfied: nvidia-cufft-cu12==11.0.2.54 in /usr/local/lib/python3.11/dist-packages (from torch==2.2.2->-r tabular_generative_models_benchmark/requirements.txt (line 166)) (11.0.2.54)\n",
            "Requirement already satisfied: nvidia-curand-cu12==10.3.2.106 in /usr/local/lib/python3.11/dist-packages (from torch==2.2.2->-r tabular_generative_models_benchmark/requirements.txt (line 166)) (10.3.2.106)\n",
            "Requirement already satisfied: nvidia-cusolver-cu12==11.4.5.107 in /usr/local/lib/python3.11/dist-packages (from torch==2.2.2->-r tabular_generative_models_benchmark/requirements.txt (line 166)) (11.4.5.107)\n",
            "Requirement already satisfied: nvidia-cusparse-cu12==12.1.0.106 in /usr/local/lib/python3.11/dist-packages (from torch==2.2.2->-r tabular_generative_models_benchmark/requirements.txt (line 166)) (12.1.0.106)\n",
            "Requirement already satisfied: nvidia-nccl-cu12==2.19.3 in /usr/local/lib/python3.11/dist-packages (from torch==2.2.2->-r tabular_generative_models_benchmark/requirements.txt (line 166)) (2.19.3)\n",
            "Requirement already satisfied: nvidia-nvtx-cu12==12.1.105 in /usr/local/lib/python3.11/dist-packages (from torch==2.2.2->-r tabular_generative_models_benchmark/requirements.txt (line 166)) (12.1.105)\n",
            "Requirement already satisfied: triton==2.2.0 in /usr/local/lib/python3.11/dist-packages (from torch==2.2.2->-r tabular_generative_models_benchmark/requirements.txt (line 166)) (2.2.0)\n",
            "Requirement already satisfied: nvidia-nvjitlink-cu12 in /usr/local/lib/python3.11/dist-packages (from nvidia-cusolver-cu12==11.4.5.107->torch==2.2.2->-r tabular_generative_models_benchmark/requirements.txt (line 166)) (12.5.82)\n"
          ]
        }
      ],
      "source": [
        "#cd ./tabular_generative_models_benchmark\n",
        "!pip install -r tabular_generative_models_benchmark/requirements.txt"
      ]
    },
    {
      "cell_type": "code",
      "execution_count": 10,
      "metadata": {
        "id": "KWK-UcwndGIT"
      },
      "outputs": [],
      "source": [
        "import os, sys\n",
        "import pandas as pd\n",
        "\n",
        "from tab_gmb.dataset import Dataset\n",
        "from tab_gmb.metrics import MultiMetricEvaluator\n",
        "from tab_gmb.models import CTGANModel, TabDDPMModel"
      ]
    },
    {
      "cell_type": "code",
      "execution_count": 11,
      "metadata": {
        "id": "LIIIs-mZRah5"
      },
      "outputs": [],
      "source": [
        "sys.path.append('./tabular_generative_models_benchmark')"
      ]
    },
    {
      "cell_type": "code",
      "execution_count": 12,
      "metadata": {
        "colab": {
          "base_uri": "https://localhost:8080/"
        },
        "id": "NhzRnzZhT5YJ",
        "outputId": "af50e469-4569-4f86-d683-bbaf8c0dff42"
      },
      "outputs": [
        {
          "name": "stdout",
          "output_type": "stream",
          "text": [
            "Предупреждение: Колонки не классифицированы как числовые или категориальные: {'Ticket', 'Cabin', 'PassengerId', 'Name'}\n",
            "Датасет 'titanic' успешно валидирован:\n",
            "  - Размер: (712, 12)\n",
            "  - Тип задачи: classification\n",
            "  - Целевая колонка: Survived\n",
            "  - Числовые колонки (4): ['Age', 'Fare', 'SibSp', 'Parch']\n",
            "  - Категориальные колонки (3): ['Pclass', 'Sex', 'Embarked']\n"
          ]
        }
      ],
      "source": [
        "test_dir = './titanic.csv'\n",
        "test_data = pd.read_csv(test_dir)\n",
        "\n",
        "dataset = Dataset(\n",
        "    data=test_data,\n",
        "    name='titanic',\n",
        "    task_type='classification',\n",
        "    target_column='Survived',\n",
        "    num_columns=[\"Age\", \"Fare\", \"SibSp\", \"Parch\"],\n",
        "    cat_columns=[\"Pclass\", \"Sex\", \"Embarked\"],\n",
        "    verbose_init=True\n",
        ")"
      ]
    },
    {
      "cell_type": "code",
      "execution_count": 13,
      "metadata": {
        "id": "0j4YWPqDWVNT"
      },
      "outputs": [],
      "source": [
        "model_gm_1= TabDDPMModel()\n",
        "model_gm_2= CTGANModel()\n",
        "\n",
        "evl_metrics = MultiMetricEvaluator(metrics=['c2st', 'ml_efficacy', 'pair', 'shape'], weights={'c2st': 1.0, 'ml_efficacy': -1.0, 'pair': -1.0, 'shape': -1.0})"
      ]
    },
    {
      "cell_type": "code",
      "execution_count": 14,
      "metadata": {
        "colab": {
          "base_uri": "https://localhost:8080/"
        },
        "id": "qiEUS-gGdntM",
        "outputId": "70f671e8-102d-4a34-b843-0327ef0468e9"
      },
      "outputs": [
        {
          "name": "stdout",
          "output_type": "stream",
          "text": [
            "Tab-DDPM\n",
            "(-2.096009102216214, {'c2st': 0.765453834115806, 'ml_efficacy': 1.0024930399463123, 'pair': 0.9186597638938924, 'shape': 0.9403101324918154})\n",
            "CTGAN\n",
            "(-1.3902730213950556, {'c2st': 0.9079290558163797, 'ml_efficacy': 0.5558654223028245, 'pair': 0.8631222687321992, 'shape': 0.8792143861764116})\n"
          ]
        }
      ],
      "source": [
        "print('Tab-DDPM')\n",
        "print(evl_metrics.evaluate(model_gm_1, dataset, n_folds=3))\n",
        "\n",
        "print('CTGAN')\n",
        "print(evl_metrics.evaluate(model_gm_2, dataset, n_folds=3))"
      ]
    }
  ],
  "metadata": {
    "colab": {
      "provenance": []
    },
    "kernelspec": {
      "display_name": "Python 3",
      "name": "python3"
    },
    "language_info": {
      "name": "python"
    }
  },
  "nbformat": 4,
  "nbformat_minor": 0
}
