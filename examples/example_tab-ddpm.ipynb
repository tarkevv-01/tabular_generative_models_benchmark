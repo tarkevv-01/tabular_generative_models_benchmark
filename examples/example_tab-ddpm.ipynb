{
 "cells": [
  {
   "cell_type": "code",
   "execution_count": 13,
   "metadata": {},
   "outputs": [],
   "source": [
    "import os, sys\n",
    "import pandas as pd\n",
    "\n",
    "from tab_gmb.dataset import Dataset\n",
    "from tab_gmb.models import TabDDPMModel\n",
    "from tab_gmb.tuner import RandomSearchTuner\n",
    "from tab_gmb.experiment_runer import ExperimentRunner"
   ]
  },
  {
   "cell_type": "code",
   "execution_count": 14,
   "metadata": {},
   "outputs": [
    {
     "name": "stdout",
     "output_type": "stream",
     "text": [
      "Предупреждение: Колонки не классифицированы как числовые или категориальные: {'PassengerId', 'Ticket', 'Name', 'Cabin'}\n",
      "Датасет 'titanic' успешно валидирован:\n",
      "  - Размер: (712, 12)\n",
      "  - Тип задачи: classification\n",
      "  - Целевая колонка: Survived\n",
      "  - Числовые колонки (4): ['Age', 'Fare', 'SibSp', 'Parch']\n",
      "  - Категориальные колонки (3): ['Pclass', 'Sex', 'Embarked']\n"
     ]
    }
   ],
   "source": [
    "test_dir = './titanic.csv'\n",
    "test_data = pd.read_csv(test_dir)\n",
    "\n",
    "dataset = Dataset(\n",
    "    data=test_data,\n",
    "    name='titanic',\n",
    "    task_type='classification',\n",
    "    target_column='Survived',\n",
    "    num_columns=[\"Age\", \"Fare\", \"SibSp\", \"Parch\"],\n",
    "    cat_columns=[\"Pclass\", \"Sex\", \"Embarked\"],\n",
    "    verbose_init=True\n",
    ")"
   ]
  },
  {
   "cell_type": "code",
   "execution_count": 15,
   "metadata": {},
   "outputs": [],
   "source": [
    "ddpm_space = {\n",
    "    'batch_size': [4096],  # дискретный\n",
    "    'lr': (3.5e-4, 9.2e-4, 1e-5),  # непрерывный с квантованием\n",
    "    'num_timesteps': [1000],  # дискретный\n",
    "    'n_layers_hidden': [2, 4, 6],  # дискретный\n",
    "    'n_units_hidden': [256, 512, 1024],  # дискретный\n",
    "    'transformation_num_type': ['None'],  # дискретный\n",
    "    'transformation_cat_type': ['None']  # дискретный\n",
    "}"
   ]
  },
  {
   "cell_type": "code",
   "execution_count": 16,
   "metadata": {},
   "outputs": [],
   "source": [
    "model= TabDDPMModel()"
   ]
  },
  {
   "cell_type": "code",
   "execution_count": 17,
   "metadata": {},
   "outputs": [
    {
     "name": "stdout",
     "output_type": "stream",
     "text": [
      "--------------------------------------------------   \n",
      "{'batch_size': 4096, 'lr': 0.0007400000000000001, 'n_layers_hidden': 2, 'n_units_hidden': 1024, 'num_timesteps': 1000, 'transformation_cat_type': 'None', 'transformation_num_type': 'None'}\n",
      "-0.24194720567091765                                 \n",
      "{'c2st': 0.992859937402191, 'ml_efficacy': 0.6815664893426127, 'pair': 0.7751506921857665, 'shape': 0.7709498989469207}\n",
      "--------------------------------------------------   \n",
      "--------------------------------------------------                                \n",
      "{'batch_size': 4096, 'lr': 0.0006600000000000001, 'n_layers_hidden': 2, 'n_units_hidden': 512, 'num_timesteps': 1000, 'transformation_cat_type': 'None', 'transformation_num_type': 'None'}\n",
      "-0.892074951319614                                                                \n",
      "{'c2st': 0.897039645279082, 'ml_efficacy': 0.9751744353751043, 'pair': 0.844101578418191, 'shape': 0.8668782280844827}\n",
      "--------------------------------------------------                                \n",
      "--------------------------------------------------                                \n",
      "{'batch_size': 4096, 'lr': 0.00076, 'n_layers_hidden': 4, 'n_units_hidden': 256, 'num_timesteps': 1000, 'transformation_cat_type': 'None', 'transformation_num_type': 'None'}\n",
      "-1.1084599800507884                                                             \n",
      "{'c2st': 0.810641627543036, 'ml_efficacy': 0.9051999823919723, 'pair': 0.9124966619566742, 'shape': 0.912046590788214}\n",
      "--------------------------------------------------                              \n",
      "--------------------------------------------------                               \n",
      "{'batch_size': 4096, 'lr': 0.00035000000000000005, 'n_layers_hidden': 2, 'n_units_hidden': 1024, 'num_timesteps': 1000, 'transformation_cat_type': 'None', 'transformation_num_type': 'None'}\n",
      "-0.47581137739027923                                                             \n",
      "{'c2st': 0.9986306729264477, 'ml_efficacy': 0.9050849279766783, 'pair': 0.7960616408384803, 'shape': 0.7719261544280159}\n",
      "--------------------------------------------------                               \n",
      "--------------------------------------------------                               \n",
      "{'batch_size': 4096, 'lr': 0.00072, 'n_layers_hidden': 2, 'n_units_hidden': 512, 'num_timesteps': 1000, 'transformation_cat_type': 'None', 'transformation_num_type': 'None'}\n",
      "-0.7513928800790872                                                              \n",
      "{'c2st': 0.9321857068335943, 'ml_efficacy': 0.9274862736740493, 'pair': 0.8352972497050078, 'shape': 0.8529807703672185}\n",
      "--------------------------------------------------                               \n",
      "100%|██████████| 5/5 [26:46<00:00, 321.28s/trial, best loss: -1.1084599800507884]\n"
     ]
    }
   ],
   "source": [
    "tuner = RandomSearchTuner(n_trials=5)\n",
    "\n",
    "\n",
    "runner = ExperimentRunner(\n",
    "    dataset=dataset,\n",
    "    model=model,\n",
    "    tuner=tuner,\n",
    "    hyperparameter_space=ddpm_space,\n",
    "    metrics=['c2st', 'ml_efficacy', 'pair', 'shape'],\n",
    "    metric_weights={'c2st': 2.0, 'ml_efficacy': -1.0, 'pair': -1.0, 'shape': -1.0},\n",
    "    n_folds=3\n",
    ")\n",
    "\n",
    "\n",
    "results = runner.run_experiment()"
   ]
  },
  {
   "cell_type": "code",
   "execution_count": 18,
   "metadata": {},
   "outputs": [
    {
     "name": "stdout",
     "output_type": "stream",
     "text": [
      "Лучшие параметры: {'batch_size': 4096, 'lr': 0.00076, 'n_layers_hidden': 4, 'n_units_hidden': 256, 'num_timesteps': 1000, 'transformation_cat_type': 'None', 'transformation_num_type': 'None'}\n",
      "Лучший score: -1.1084599800507884\n",
      "{'c2st': 0.810641627543036, 'ml_efficacy': 0.9051999823919723, 'pair': 0.9124966619566742, 'shape': 0.912046590788214}\n"
     ]
    }
   ],
   "source": [
    "print('Лучшие параметры:', results['best_hyperparameters'])\n",
    "print('Лучший score:', results['best_score'])\n",
    "print(results['best_com_score'])"
   ]
  }
 ],
 "metadata": {
  "kernelspec": {
   "display_name": "venv",
   "language": "python",
   "name": "python3"
  },
  "language_info": {
   "codemirror_mode": {
    "name": "ipython",
    "version": 3
   },
   "file_extension": ".py",
   "mimetype": "text/x-python",
   "name": "python",
   "nbconvert_exporter": "python",
   "pygments_lexer": "ipython3",
   "version": "3.12.5"
  }
 },
 "nbformat": 4,
 "nbformat_minor": 2
}
